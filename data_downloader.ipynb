{
 "cells": [
  {
   "cell_type": "code",
   "execution_count": 3,
   "metadata": {},
   "outputs": [],
   "source": [
    "from google.oauth2.credentials import Credentials\n",
    "from google_auth_oauthlib.flow import InstalledAppFlow\n",
    "from googleapiclient.discovery import build\n",
    "import os\n",
    "import io\n",
    "from googleapiclient.http import MediaIoBaseDownload\n",
    "from tqdm import tqdm\n",
    "from IPython.display import clear_output"
   ]
  },
  {
   "cell_type": "code",
   "execution_count": 4,
   "metadata": {},
   "outputs": [],
   "source": [
    "# OAuth 2.0 클라이언트 비밀 파일 경로\n",
    "SCOPES = ['https://www.googleapis.com/auth/drive']\n",
    "\n",
    "# 구글 드라이브 API 인증을 위한 클라이언트 비밀 파일 경로를 찾는 함수\n",
    "def find_credentials_file(api_folder_path):\n",
    "    for file_name in os.listdir(api_folder_path):\n",
    "        if file_name.endswith('.json'):\n",
    "            return os.path.join(api_folder_path, file_name)\n",
    "    raise FileNotFoundError(\"API 인증 JSON 파일을 찾을 수 없습니다.\")\n",
    "\n",
    "# 구글 드라이브 API 서비스 객체 생성\n",
    "def create_service(api_folder_path):\n",
    "    credentials_file = find_credentials_file(api_folder_path)\n",
    "    \n",
    "    # OAuth 2.0 클라이언트 인증\n",
    "    flow = InstalledAppFlow.from_client_secrets_file(\n",
    "        credentials_file, SCOPES)\n",
    "    creds = flow.run_local_server(port=0)\n",
    "    \n",
    "    service = build('drive', 'v3', credentials=creds)\n",
    "    return service\n"
   ]
  },
  {
   "cell_type": "code",
   "execution_count": 5,
   "metadata": {},
   "outputs": [
    {
     "name": "stdout",
     "output_type": "stream",
     "text": [
      "Please visit this URL to authorize this application: https://accounts.google.com/o/oauth2/auth?response_type=code&client_id=1073184021725-j15k2rnf2pa1lddcn2gr4pkpjg1eb8gq.apps.googleusercontent.com&redirect_uri=http%3A%2F%2Flocalhost%3A8860%2F&scope=https%3A%2F%2Fwww.googleapis.com%2Fauth%2Fdrive&state=4ur1XXJ6FQoijtdWpJoLPDDRWNJXEz&access_type=offline\n"
     ]
    }
   ],
   "source": [
    "# API 폴더 경로 설정\n",
    "api_folder_path = 'API'  # API 폴더 경로 설정\n",
    "service = create_service(api_folder_path)"
   ]
  },
  {
   "cell_type": "code",
   "execution_count": 6,
   "metadata": {},
   "outputs": [],
   "source": [
    "# 공유 폴더 ID를 추출하는 함수\n",
    "def extract_folder_id_from_url(url):\n",
    "    return url.split('/')[-1]"
   ]
  },
  {
   "cell_type": "code",
   "execution_count": 7,
   "metadata": {},
   "outputs": [],
   "source": [
    "shared_folder_url = 'https://drive.google.com/drive/folders/1X3OEJXF5gzvjR5vRG7VO7h58bRwYTV0a'\n",
    "shared_folder_id = extract_folder_id_from_url(shared_folder_url)"
   ]
  },
  {
   "cell_type": "code",
   "execution_count": 12,
   "metadata": {},
   "outputs": [],
   "source": [
    "def clear_console():\n",
    "    # Windows\n",
    "    if os.name == 'nt':\n",
    "        os.system('cls')\n",
    "        clear_output(wait=True)\n",
    "    # Unix 계열(Linux, macOS)\n",
    "    else:\n",
    "        os.system('clear')\n",
    "        clear_output(wait=True)\n",
    "\n",
    "def get_file_size(service, file_id):\n",
    "    # Google Drive에서 파일의 크기 정보를 가져옵니다.\n",
    "    file_info = service.files().get(fileId=file_id, fields=\"size\", supportsAllDrives=True).execute()\n",
    "    file_size = file_info.get('size')\n",
    "    if file_size is None:\n",
    "        print(f\"File ID {file_id} has no size (possibly Google Docs or other unsupported format).\")\n",
    "        return 0  # 크기가 없으면 0을 반환\n",
    "    \n",
    "    return int(file_size)\n",
    "\n",
    "# 파일을 다운로드하는 함수\n",
    "def download_file(service, file_id, file_name, output_folder):\n",
    "    file_path = os.path.join(output_folder, file_name)\n",
    "\n",
    "    # Google Drive에서 파일 크기를 가져옵니다.\n",
    "    drive_file_size = get_file_size(service, file_id)\n",
    "\n",
    "    # 로컬에 파일이 이미 존재하는지 확인\n",
    "    if os.path.exists(file_path):\n",
    "        local_file_size = os.path.getsize(file_path)\n",
    "\n",
    "        # 로컬 파일 크기와 Google Drive 파일 크기를 비교\n",
    "        if local_file_size == drive_file_size:\n",
    "            print(f\"Skipping {file_name}, already exists and size matches.\")\n",
    "            return None\n",
    "        else:\n",
    "            print(f\"{file_name} exists but size differs, downloading again.\")\n",
    "    \n",
    "    # 파일 다운로드\n",
    "    request = service.files().get_media(fileId=file_id)\n",
    "    with io.FileIO(file_path, 'wb') as fh:\n",
    "        downloader = MediaIoBaseDownload(fh, request)\n",
    "        done = False\n",
    "        pbar = tqdm(total=100, desc=f\"Downloading {file_name}\", unit='%')  # tqdm 초기화\n",
    "        while not done:\n",
    "            status, done = downloader.next_chunk()\n",
    "            pbar.update(int(status.progress() * 100) - pbar.n)  # 업데이트를 통해 진행률 표시\n",
    "        pbar.close()\n",
    "    \n",
    "    print(f\"{file_name} has been downloaded to {file_path}.\")\n",
    "    return file_path  # 다운로드된 파일 경로 반환\n",
    "\n",
    "# 폴더 내용을 재귀적으로 다운로드하는 함수\n",
    "def download_folder(service, folder_id, output_folder):\n",
    "    if not os.path.exists(output_folder):\n",
    "        os.makedirs(output_folder)\n",
    "    \n",
    "    results = service.files().list(\n",
    "        q=f\"'{folder_id}' in parents\",\n",
    "        fields=\"files(id, name, mimeType)\",\n",
    "        supportsAllDrives=True,\n",
    "        includeItemsFromAllDrives=True\n",
    "    ).execute()\n",
    "    items = results.get('files', [])\n",
    "\n",
    "    downloaded_files = []  # 다운로드된 파일 경로를 저장할 리스트\n",
    "\n",
    "    for item in items:\n",
    "        file_id = item['id']\n",
    "        file_name = item['name']\n",
    "        mime_type = item['mimeType']\n",
    "        \n",
    "        if mime_type == 'application/vnd.google-apps.folder':\n",
    "            print(f\"Entering folder: {file_name}\")\n",
    "            new_output_folder = os.path.join(output_folder, file_name)\n",
    "            # 하위 폴더의 파일들도 다운로드하고, 리스트에 추가\n",
    "            downloaded_files.extend(download_folder(service, file_id, new_output_folder))\n",
    "        else:\n",
    "            print(f\"Downloading file: {file_name}\")\n",
    "            downloaded_file_path = download_file(service, file_id, file_name, output_folder)\n",
    "            if downloaded_file_path:\n",
    "                downloaded_files.append(downloaded_file_path)\n",
    "        \n",
    "        clear_console()\n",
    "    \n",
    "    return downloaded_files  # 다운로드된 파일들의 경로 반환\n"
   ]
  },
  {
   "cell_type": "code",
   "execution_count": 13,
   "metadata": {},
   "outputs": [
    {
     "name": "stdout",
     "output_type": "stream",
     "text": [
      "Entering folder: P031_split2\n",
      "Downloading file: P031_split2.b3d\n",
      "Skipping P031_split2.b3d, already exists and size matches.\n"
     ]
    }
   ],
   "source": [
    "output_folder = 'data'\n",
    "downloaded_files = download_folder(service, shared_folder_id, output_folder)"
   ]
  },
  {
   "cell_type": "code",
   "execution_count": 15,
   "metadata": {},
   "outputs": [
    {
     "data": {
      "text/plain": [
       "['data\\\\test\\\\With_Arm\\\\vanderZee2022_Formatted_With_Arm\\\\p3\\\\p3.b3d',\n",
       " 'data\\\\train\\\\No_Arm\\\\Camargo2021_Formatted_No_Arm\\\\AB17_split4\\\\AB17_split4.b3d',\n",
       " 'data\\\\train\\\\No_Arm\\\\Santos2017_Formatted_No_Arm\\\\subject17\\\\subject17.b3d']"
      ]
     },
     "execution_count": 15,
     "metadata": {},
     "output_type": "execute_result"
    }
   ],
   "source": [
    "downloaded_files"
   ]
  }
 ],
 "metadata": {
  "kernelspec": {
   "display_name": "InferBiomechanics",
   "language": "python",
   "name": "python3"
  },
  "language_info": {
   "codemirror_mode": {
    "name": "ipython",
    "version": 3
   },
   "file_extension": ".py",
   "mimetype": "text/x-python",
   "name": "python",
   "nbconvert_exporter": "python",
   "pygments_lexer": "ipython3",
   "version": "3.10.14"
  }
 },
 "nbformat": 4,
 "nbformat_minor": 2
}
